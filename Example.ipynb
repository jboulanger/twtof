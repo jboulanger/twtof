{
 "cells": [
  {
   "cell_type": "markdown",
   "metadata": {},
   "source": [
    "# Example notebook for loading TOFWERK HD5 dataset"
   ]
  },
  {
   "cell_type": "markdown",
   "metadata": {},
   "source": [
    "Load the FIB image and peak data"
   ]
  },
  {
   "cell_type": "code",
   "execution_count": null,
   "metadata": {},
   "outputs": [],
   "source": [
    "import twtof\n",
    "\n",
    "filename = \"./data/20230722_magnetotactic_HO027_1_Au_pos_spot2_run1_30kV_50pA.h5\"\n",
    "fib, mass, peak = twtof.imread(filename)"
   ]
  },
  {
   "cell_type": "markdown",
   "metadata": {},
   "source": [
    "Interactive display of the image and the associated spectrum"
   ]
  },
  {
   "cell_type": "code",
   "execution_count": null,
   "metadata": {},
   "outputs": [],
   "source": [
    "%matplotlib ipympl\n",
    "from ipywidgets import interact\n",
    "import matplotlib.pyplot as plt\n",
    "\n",
    "fig, ax = plt.subplots(1, 3, figsize=(10, 5))\n",
    "axfib = ax[0].imshow(fib[0].squeeze())\n",
    "crosshair = ax[0].plot(0, 0, \"w+\", ms=50)\n",
    "axpeak = ax[1].plot(peak[0, 0, 0].ravel())\n",
    "sline = ax[1].plot((0, 0), (0, 2), \"r-\")\n",
    "axmap = ax[2].imshow(peak[0, :, :, 0].squeeze())\n",
    "ax[1].set(xlabel=\"mass\", ylabel=\"count\")\n",
    "ax[1].set_box_aspect(1)\n",
    "ax[0].set_axis_off()\n",
    "ax[2].set_axis_off()\n",
    "\n",
    "\n",
    "@interact(\n",
    "    x=(0, fib.shape[2] - 1, 1),\n",
    "    y=(0, fib.shape[1] - 1, 1),\n",
    "    z=(0, fib.shape[0] - 1, 1),\n",
    "    c=(0, peak.shape[3] - 1, 1),\n",
    "    cmap=[\"viridis\", \"jet\", \"gray\"],\n",
    ")\n",
    "def display_twotof(x, y, z, c, cmap):\n",
    "    axfib.set(data=fib[z], cmap=cmap)\n",
    "    crosshair[0].set(data=([x], [y]))\n",
    "    ax[0].set_title(f\"FIB Image\\n({x},{y},{z})\")\n",
    "    d = int(fib.shape[1] / peak.shape[1])\n",
    "    axpeak[0].set(data=(mass, peak[z, y // d, x // d].ravel()))\n",
    "    sline[0].set(data=((c, c), (0, 2)))\n",
    "    ax[1].set_title(f\"mass {c}\")\n",
    "    axmap.set(data=peak[z, :, :, c].squeeze(), cmap=cmap)\n",
    "    ax[2].set_title(\"Peak data\")"
   ]
  },
  {
   "cell_type": "markdown",
   "metadata": {},
   "source": [
    "Load the peak table"
   ]
  },
  {
   "cell_type": "code",
   "execution_count": null,
   "metadata": {},
   "outputs": [],
   "source": [
    "with twtof.TofH5Reader(filename) as f:\n",
    "    peak_df = f.load_peak_table()\n",
    "peak_df"
   ]
  },
  {
   "cell_type": "markdown",
   "metadata": {},
   "source": [
    "Load all the data in a dictionnary"
   ]
  },
  {
   "cell_type": "code",
   "execution_count": null,
   "metadata": {},
   "outputs": [],
   "source": [
    "data = twtof.as_dict(filename)\n",
    "data[\"Acquisition log\"]"
   ]
  },
  {
   "cell_type": "markdown",
   "metadata": {},
   "source": [
    "# Export FIB image and peak to TIF"
   ]
  },
  {
   "cell_type": "code",
   "execution_count": null,
   "metadata": {},
   "outputs": [],
   "source": [
    "import twtof\n",
    "import tifffile\n",
    "import numpy as np\n",
    "\n",
    "filename = \"./data/20230722_magnetotactic_HO027_1_Au_pos_spot2_run1_30kV_50pA.h5\"\n",
    "fib, mass, peak = twtof.imread(filename)\n",
    "tifffile.imwrite(\n",
    "    \"mass.tif\",\n",
    "    np.moveaxis(peak, [0, 3, 1, 2], [0, 1, 2, 3]),\n",
    "    imagej=True,\n",
    "    metadata={\"axes\": \"ZCYX\"},\n",
    ")\n",
    "tifffile.imwrite(\n",
    "    \"fib.tif\", fib.astype(np.uint16), imagej=True, metadata={\"axes\": \"ZYX\"}\n",
    ")"
   ]
  },
  {
   "cell_type": "markdown",
   "metadata": {},
   "source": [
    "# Average spectra in ROI\n",
    "\n",
    "Select ROI in the FIB image and display the corresponding averaged spectra.\n"
   ]
  },
  {
   "cell_type": "code",
   "execution_count": null,
   "metadata": {},
   "outputs": [],
   "source": [
    "from mpl_interactions import image_segmenter\n",
    "import ipywidgets as widgets\n",
    "\n",
    "fig, ax = plt.subplots(1, 2)\n",
    "\n",
    "N_ROI = 3\n",
    "\n",
    "# Create the widgets\n",
    "slice_selector = widgets.IntSlider(\n",
    "    value=0, min=0, max=fib.shape[0] - 1, description=\"Slice\"\n",
    ")\n",
    "class_selector = widgets.Dropdown(options=list(range(1, N_ROI + 1)), description=\"ROI\")\n",
    "erasing_button = widgets.Checkbox(value=False, description=\"Erasing\")\n",
    "refresh_btn = widgets.Button(value=False, description=\"Refresh\")\n",
    "\n",
    "\n",
    "# Update function\n",
    "def update(change):\n",
    "    # update the active ROI/class\n",
    "    multi_class_segmenter.current_class = class_selector.value\n",
    "    # toggle to erase mode\n",
    "    multi_class_segmenter.erasing = erasing_button.value\n",
    "    # set the image plane in the left panel\n",
    "    multi_class_segmenter.displayed.set_data(fib[slice_selector.value])\n",
    "    # retreive the current mask and downscale it\n",
    "    d = fib.shape[1] // peak.shape[1]\n",
    "    lbl = multi_class_segmenter.mask[::d, ::d].astype(int)\n",
    "    # for each label\n",
    "    for c in np.unique(lbl)[1:]:\n",
    "        # draw the averaged spectrum in the region\n",
    "        f = peak[slice_selector.value, lbl == c, :].mean(axis=0)\n",
    "        axpeak[c - 1][0].set_data(mass, 1e-3 + f)\n",
    "    refresh_btn.value = False\n",
    "\n",
    "\n",
    "# Add callbacks\n",
    "erasing_button.observe(update, names=\"value\")\n",
    "class_selector.observe(update, names=\"value\")\n",
    "slice_selector.observe(update, names=\"value\")\n",
    "refresh_btn.on_click(update)\n",
    "\n",
    "ax[0].set_axis_off()\n",
    "axpeak = [ax[1].semilogy([0, mass.max()], [1e-3, 1e-3]) for k in range(N_ROI)]\n",
    "ax[1].set_box_aspect(1)\n",
    "ax[1].set(xlim=(0, mass.max()), ylim=(1e-3, peak.max()))\n",
    "multi_class_segmenter = image_segmenter(fib[0], nclasses=3, mask_alpha=0.76, ax=ax[0])\n",
    "multi_class_segmenter.ax\n",
    "display(widgets.HBox([slice_selector, erasing_button, class_selector, refresh_btn]))"
   ]
  },
  {
   "cell_type": "markdown",
   "metadata": {},
   "source": [
    "Export the values at the current slice for each ROI into a dataframe."
   ]
  },
  {
   "cell_type": "code",
   "execution_count": null,
   "metadata": {},
   "outputs": [],
   "source": [
    "import pandas as pd\n",
    "\n",
    "d = fib.shape[1] // peak.shape[1]\n",
    "lbl = multi_class_segmenter.mask[::d, ::d].astype(int)\n",
    "df = pd.DataFrame(\n",
    "    {\n",
    "        f'ROI{c}': peak[slice_selector.value, lbl == c, :].mean(axis=0)\n",
    "        for c in np.unique(lbl)[1:]\n",
    "    }\n",
    ")\n",
    "df['mass'] = mass\n",
    "df['slice'] = slice_selector.value\n",
    "df"
   ]
  }
 ],
 "metadata": {
  "language_info": {
   "name": "python",
   "pygments_lexer": "ipython3"
  }
 },
 "nbformat": 4,
 "nbformat_minor": 2
}
